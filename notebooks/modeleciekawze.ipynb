{
 "cells": [
  {
   "cell_type": "markdown",
   "id": "954de87f491050e4",
   "metadata": {},
   "source": [
    "<h1>LSTM</h1>"
   ]
  },
  {
   "cell_type": "code",
   "execution_count": null,
   "id": "initial_id",
   "metadata": {
    "ExecuteTime": {
     "end_time": "2025-02-24T12:26:32.619088Z",
     "start_time": "2025-02-24T12:26:32.563942Z"
    }
   },
   "outputs": [
    {
     "name": "stdout",
     "output_type": "stream",
     "text": [
      "✅ Wczytano zapisany tokenizer.\n"
     ]
    },
    {
     "name": "stderr",
     "output_type": "stream",
     "text": [
      "C:\\Users\\User\\miniconda3\\envs\\tf_env\\lib\\site-packages\\keras\\src\\layers\\core\\embedding.py:90: UserWarning: Argument `input_length` is deprecated. Just remove it.\n",
      "  warnings.warn(\n"
     ]
    },
    {
     "name": "stdout",
     "output_type": "stream",
     "text": [
      "Epoch 1/20\n",
      "\u001b[1m1122/1122\u001b[0m \u001b[32m━━━━━━━━━━━━━━━━━━━━\u001b[0m\u001b[37m\u001b[0m \u001b[1m0s\u001b[0m 958ms/step - accuracy: 0.5095 - loss: 1.5383   \n",
      "Epoch 1: val_loss improved from inf to 0.83316, saving model to C:\\Users\\User\\PycharmProjects\\sentiment\\models\\zlozone\\lstm_best_model.h5\n"
     ]
    },
    {
     "name": "stderr",
     "output_type": "stream",
     "text": [
      "WARNING:absl:You are saving your model as an HDF5 file via `model.save()` or `keras.saving.save_model(model)`. This file format is considered legacy. We recommend using instead the native Keras format, e.g. `model.save('my_model.keras')` or `keras.saving.save_model(model, 'my_model.keras')`. \n"
     ]
    },
    {
     "name": "stdout",
     "output_type": "stream",
     "text": [
      "\u001b[1m1122/1122\u001b[0m \u001b[32m━━━━━━━━━━━━━━━━━━━━\u001b[0m\u001b[37m\u001b[0m \u001b[1m1125s\u001b[0m 993ms/step - accuracy: 0.5095 - loss: 1.5380 - val_accuracy: 0.6544 - val_loss: 0.8332 - learning_rate: 5.0000e-04\n",
      "Epoch 2/20\n",
      "\u001b[1m1122/1122\u001b[0m \u001b[32m━━━━━━━━━━━━━━━━━━━━\u001b[0m\u001b[37m\u001b[0m \u001b[1m0s\u001b[0m 925ms/step - accuracy: 0.6459 - loss: 0.8301   \n",
      "Epoch 2: val_loss improved from 0.83316 to 0.74283, saving model to C:\\Users\\User\\PycharmProjects\\sentiment\\models\\zlozone\\lstm_best_model.h5\n"
     ]
    },
    {
     "name": "stderr",
     "output_type": "stream",
     "text": [
      "WARNING:absl:You are saving your model as an HDF5 file via `model.save()` or `keras.saving.save_model(model)`. This file format is considered legacy. We recommend using instead the native Keras format, e.g. `model.save('my_model.keras')` or `keras.saving.save_model(model, 'my_model.keras')`. \n"
     ]
    },
    {
     "name": "stdout",
     "output_type": "stream",
     "text": [
      "\u001b[1m1122/1122\u001b[0m \u001b[32m━━━━━━━━━━━━━━━━━━━━\u001b[0m\u001b[37m\u001b[0m \u001b[1m1076s\u001b[0m 959ms/step - accuracy: 0.6459 - loss: 0.8301 - val_accuracy: 0.6814 - val_loss: 0.7428 - learning_rate: 5.0000e-04\n",
      "Epoch 3/20\n",
      "\u001b[1m1122/1122\u001b[0m \u001b[32m━━━━━━━━━━━━━━━━━━━━\u001b[0m\u001b[37m\u001b[0m \u001b[1m0s\u001b[0m 942ms/step - accuracy: 0.6729 - loss: 0.7574   \n",
      "Epoch 3: val_loss improved from 0.74283 to 0.70335, saving model to C:\\Users\\User\\PycharmProjects\\sentiment\\models\\zlozone\\lstm_best_model.h5\n"
     ]
    },
    {
     "name": "stderr",
     "output_type": "stream",
     "text": [
      "WARNING:absl:You are saving your model as an HDF5 file via `model.save()` or `keras.saving.save_model(model)`. This file format is considered legacy. We recommend using instead the native Keras format, e.g. `model.save('my_model.keras')` or `keras.saving.save_model(model, 'my_model.keras')`. \n"
     ]
    },
    {
     "name": "stdout",
     "output_type": "stream",
     "text": [
      "\u001b[1m1122/1122\u001b[0m \u001b[32m━━━━━━━━━━━━━━━━━━━━\u001b[0m\u001b[37m\u001b[0m \u001b[1m1096s\u001b[0m 977ms/step - accuracy: 0.6729 - loss: 0.7573 - val_accuracy: 0.7027 - val_loss: 0.7033 - learning_rate: 5.0000e-04\n",
      "Epoch 4/20\n",
      "\u001b[1m1122/1122\u001b[0m \u001b[32m━━━━━━━━━━━━━━━━━━━━\u001b[0m\u001b[37m\u001b[0m \u001b[1m0s\u001b[0m 948ms/step - accuracy: 0.6891 - loss: 0.7285   \n",
      "Epoch 4: val_loss improved from 0.70335 to 0.68392, saving model to C:\\Users\\User\\PycharmProjects\\sentiment\\models\\zlozone\\lstm_best_model.h5\n"
     ]
    },
    {
     "name": "stderr",
     "output_type": "stream",
     "text": [
      "WARNING:absl:You are saving your model as an HDF5 file via `model.save()` or `keras.saving.save_model(model)`. This file format is considered legacy. We recommend using instead the native Keras format, e.g. `model.save('my_model.keras')` or `keras.saving.save_model(model, 'my_model.keras')`. \n"
     ]
    },
    {
     "name": "stdout",
     "output_type": "stream",
     "text": [
      "\u001b[1m1122/1122\u001b[0m \u001b[32m━━━━━━━━━━━━━━━━━━━━\u001b[0m\u001b[37m\u001b[0m \u001b[1m1104s\u001b[0m 984ms/step - accuracy: 0.6891 - loss: 0.7285 - val_accuracy: 0.7107 - val_loss: 0.6839 - learning_rate: 5.0000e-04\n",
      "Epoch 5/20\n",
      "\u001b[1m1122/1122\u001b[0m \u001b[32m━━━━━━━━━━━━━━━━━━━━\u001b[0m\u001b[37m\u001b[0m \u001b[1m0s\u001b[0m 958ms/step - accuracy: 0.6989 - loss: 0.7086   \n",
      "Epoch 5: val_loss improved from 0.68392 to 0.66974, saving model to C:\\Users\\User\\PycharmProjects\\sentiment\\models\\zlozone\\lstm_best_model.h5\n"
     ]
    },
    {
     "name": "stderr",
     "output_type": "stream",
     "text": [
      "WARNING:absl:You are saving your model as an HDF5 file via `model.save()` or `keras.saving.save_model(model)`. This file format is considered legacy. We recommend using instead the native Keras format, e.g. `model.save('my_model.keras')` or `keras.saving.save_model(model, 'my_model.keras')`. \n"
     ]
    },
    {
     "name": "stdout",
     "output_type": "stream",
     "text": [
      "\u001b[1m1122/1122\u001b[0m \u001b[32m━━━━━━━━━━━━━━━━━━━━\u001b[0m\u001b[37m\u001b[0m \u001b[1m1117s\u001b[0m 996ms/step - accuracy: 0.6989 - loss: 0.7086 - val_accuracy: 0.7180 - val_loss: 0.6697 - learning_rate: 5.0000e-04\n",
      "Epoch 6/20\n",
      "\u001b[1m1122/1122\u001b[0m \u001b[32m━━━━━━━━━━━━━━━━━━━━\u001b[0m\u001b[37m\u001b[0m \u001b[1m0s\u001b[0m 978ms/step - accuracy: 0.7068 - loss: 0.6945   \n",
      "Epoch 6: val_loss improved from 0.66974 to 0.66241, saving model to C:\\Users\\User\\PycharmProjects\\sentiment\\models\\zlozone\\lstm_best_model.h5\n"
     ]
    },
    {
     "name": "stderr",
     "output_type": "stream",
     "text": [
      "WARNING:absl:You are saving your model as an HDF5 file via `model.save()` or `keras.saving.save_model(model)`. This file format is considered legacy. We recommend using instead the native Keras format, e.g. `model.save('my_model.keras')` or `keras.saving.save_model(model, 'my_model.keras')`. \n"
     ]
    },
    {
     "name": "stdout",
     "output_type": "stream",
     "text": [
      "\u001b[1m1122/1122\u001b[0m \u001b[32m━━━━━━━━━━━━━━━━━━━━\u001b[0m\u001b[37m\u001b[0m \u001b[1m1140s\u001b[0m 1s/step - accuracy: 0.7068 - loss: 0.6945 - val_accuracy: 0.7222 - val_loss: 0.6624 - learning_rate: 5.0000e-04\n",
      "Epoch 7/20\n",
      "\u001b[1m1122/1122\u001b[0m \u001b[32m━━━━━━━━━━━━━━━━━━━━\u001b[0m\u001b[37m\u001b[0m \u001b[1m0s\u001b[0m 989ms/step - accuracy: 0.7124 - loss: 0.6834   \n",
      "Epoch 7: val_loss improved from 0.66241 to 0.65678, saving model to C:\\Users\\User\\PycharmProjects\\sentiment\\models\\zlozone\\lstm_best_model.h5\n"
     ]
    },
    {
     "name": "stderr",
     "output_type": "stream",
     "text": [
      "WARNING:absl:You are saving your model as an HDF5 file via `model.save()` or `keras.saving.save_model(model)`. This file format is considered legacy. We recommend using instead the native Keras format, e.g. `model.save('my_model.keras')` or `keras.saving.save_model(model, 'my_model.keras')`. \n"
     ]
    },
    {
     "name": "stdout",
     "output_type": "stream",
     "text": [
      "\u001b[1m1122/1122\u001b[0m \u001b[32m━━━━━━━━━━━━━━━━━━━━\u001b[0m\u001b[37m\u001b[0m \u001b[1m1152s\u001b[0m 1s/step - accuracy: 0.7124 - loss: 0.6834 - val_accuracy: 0.7223 - val_loss: 0.6568 - learning_rate: 5.0000e-04\n",
      "Epoch 8/20\n",
      "\u001b[1m1122/1122\u001b[0m \u001b[32m━━━━━━━━━━━━━━━━━━━━\u001b[0m\u001b[37m\u001b[0m \u001b[1m0s\u001b[0m 991ms/step - accuracy: 0.7194 - loss: 0.6715   \n",
      "Epoch 8: val_loss improved from 0.65678 to 0.65205, saving model to C:\\Users\\User\\PycharmProjects\\sentiment\\models\\zlozone\\lstm_best_model.h5\n"
     ]
    },
    {
     "name": "stderr",
     "output_type": "stream",
     "text": [
      "WARNING:absl:You are saving your model as an HDF5 file via `model.save()` or `keras.saving.save_model(model)`. This file format is considered legacy. We recommend using instead the native Keras format, e.g. `model.save('my_model.keras')` or `keras.saving.save_model(model, 'my_model.keras')`. \n"
     ]
    },
    {
     "name": "stdout",
     "output_type": "stream",
     "text": [
      "\u001b[1m1122/1122\u001b[0m \u001b[32m━━━━━━━━━━━━━━━━━━━━\u001b[0m\u001b[37m\u001b[0m \u001b[1m1156s\u001b[0m 1s/step - accuracy: 0.7194 - loss: 0.6715 - val_accuracy: 0.7251 - val_loss: 0.6520 - learning_rate: 5.0000e-04\n",
      "Epoch 9/20\n",
      "\u001b[1m1122/1122\u001b[0m \u001b[32m━━━━━━━━━━━━━━━━━━━━\u001b[0m\u001b[37m\u001b[0m \u001b[1m0s\u001b[0m 1s/step - accuracy: 0.7218 - loss: 0.6613       \n",
      "Epoch 9: val_loss improved from 0.65205 to 0.64196, saving model to C:\\Users\\User\\PycharmProjects\\sentiment\\models\\zlozone\\lstm_best_model.h5\n"
     ]
    },
    {
     "name": "stderr",
     "output_type": "stream",
     "text": [
      "WARNING:absl:You are saving your model as an HDF5 file via `model.save()` or `keras.saving.save_model(model)`. This file format is considered legacy. We recommend using instead the native Keras format, e.g. `model.save('my_model.keras')` or `keras.saving.save_model(model, 'my_model.keras')`. \n"
     ]
    },
    {
     "name": "stdout",
     "output_type": "stream",
     "text": [
      "\u001b[1m1122/1122\u001b[0m \u001b[32m━━━━━━━━━━━━━━━━━━━━\u001b[0m\u001b[37m\u001b[0m \u001b[1m1168s\u001b[0m 1s/step - accuracy: 0.7218 - loss: 0.6613 - val_accuracy: 0.7297 - val_loss: 0.6420 - learning_rate: 5.0000e-04\n",
      "Epoch 10/20\n",
      "\u001b[1m1122/1122\u001b[0m \u001b[32m━━━━━━━━━━━━━━━━━━━━\u001b[0m\u001b[37m\u001b[0m \u001b[1m0s\u001b[0m 1s/step - accuracy: 0.7253 - loss: 0.6583       \n",
      "Epoch 10: val_loss improved from 0.64196 to 0.63697, saving model to C:\\Users\\User\\PycharmProjects\\sentiment\\models\\zlozone\\lstm_best_model.h5\n"
     ]
    },
    {
     "name": "stderr",
     "output_type": "stream",
     "text": [
      "WARNING:absl:You are saving your model as an HDF5 file via `model.save()` or `keras.saving.save_model(model)`. This file format is considered legacy. We recommend using instead the native Keras format, e.g. `model.save('my_model.keras')` or `keras.saving.save_model(model, 'my_model.keras')`. \n"
     ]
    },
    {
     "name": "stdout",
     "output_type": "stream",
     "text": [
      "\u001b[1m1122/1122\u001b[0m \u001b[32m━━━━━━━━━━━━━━━━━━━━\u001b[0m\u001b[37m\u001b[0m \u001b[1m1175s\u001b[0m 1s/step - accuracy: 0.7253 - loss: 0.6583 - val_accuracy: 0.7331 - val_loss: 0.6370 - learning_rate: 5.0000e-04\n",
      "Epoch 11/20\n",
      "\u001b[1m1122/1122\u001b[0m \u001b[32m━━━━━━━━━━━━━━━━━━━━\u001b[0m\u001b[37m\u001b[0m \u001b[1m0s\u001b[0m 1s/step - accuracy: 0.7299 - loss: 0.6466   \n",
      "Epoch 11: val_loss did not improve from 0.63697\n",
      "\u001b[1m1122/1122\u001b[0m \u001b[32m━━━━━━━━━━━━━━━━━━━━\u001b[0m\u001b[37m\u001b[0m \u001b[1m1181s\u001b[0m 1s/step - accuracy: 0.7299 - loss: 0.6466 - val_accuracy: 0.7323 - val_loss: 0.6396 - learning_rate: 5.0000e-04\n",
      "Epoch 12/20\n",
      "\u001b[1m1122/1122\u001b[0m \u001b[32m━━━━━━━━━━━━━━━━━━━━\u001b[0m\u001b[37m\u001b[0m \u001b[1m0s\u001b[0m 1s/step - accuracy: 0.7323 - loss: 0.6426   \n",
      "Epoch 12: val_loss improved from 0.63697 to 0.63532, saving model to C:\\Users\\User\\PycharmProjects\\sentiment\\models\\zlozone\\lstm_best_model.h5\n"
     ]
    },
    {
     "name": "stderr",
     "output_type": "stream",
     "text": [
      "WARNING:absl:You are saving your model as an HDF5 file via `model.save()` or `keras.saving.save_model(model)`. This file format is considered legacy. We recommend using instead the native Keras format, e.g. `model.save('my_model.keras')` or `keras.saving.save_model(model, 'my_model.keras')`. \n"
     ]
    },
    {
     "name": "stdout",
     "output_type": "stream",
     "text": [
      "\u001b[1m1122/1122\u001b[0m \u001b[32m━━━━━━━━━━━━━━━━━━━━\u001b[0m\u001b[37m\u001b[0m \u001b[1m1198s\u001b[0m 1s/step - accuracy: 0.7323 - loss: 0.6426 - val_accuracy: 0.7339 - val_loss: 0.6353 - learning_rate: 5.0000e-04\n",
      "Epoch 13/20\n",
      "\u001b[1m1122/1122\u001b[0m \u001b[32m━━━━━━━━━━━━━━━━━━━━\u001b[0m\u001b[37m\u001b[0m \u001b[1m0s\u001b[0m 1s/step - accuracy: 0.7361 - loss: 0.6354   \n",
      "Epoch 13: val_loss improved from 0.63532 to 0.63042, saving model to C:\\Users\\User\\PycharmProjects\\sentiment\\models\\zlozone\\lstm_best_model.h5\n"
     ]
    },
    {
     "name": "stderr",
     "output_type": "stream",
     "text": [
      "WARNING:absl:You are saving your model as an HDF5 file via `model.save()` or `keras.saving.save_model(model)`. This file format is considered legacy. We recommend using instead the native Keras format, e.g. `model.save('my_model.keras')` or `keras.saving.save_model(model, 'my_model.keras')`. \n"
     ]
    },
    {
     "name": "stdout",
     "output_type": "stream",
     "text": [
      "\u001b[1m1122/1122\u001b[0m \u001b[32m━━━━━━━━━━━━━━━━━━━━\u001b[0m\u001b[37m\u001b[0m \u001b[1m1201s\u001b[0m 1s/step - accuracy: 0.7361 - loss: 0.6354 - val_accuracy: 0.7353 - val_loss: 0.6304 - learning_rate: 5.0000e-04\n",
      "Epoch 14/20\n",
      "\u001b[1m1122/1122\u001b[0m \u001b[32m━━━━━━━━━━━━━━━━━━━━\u001b[0m\u001b[37m\u001b[0m \u001b[1m0s\u001b[0m 1s/step - accuracy: 0.7366 - loss: 0.6339   \n",
      "Epoch 14: val_loss did not improve from 0.63042\n",
      "\u001b[1m1122/1122\u001b[0m \u001b[32m━━━━━━━━━━━━━━━━━━━━\u001b[0m\u001b[37m\u001b[0m \u001b[1m1204s\u001b[0m 1s/step - accuracy: 0.7366 - loss: 0.6339 - val_accuracy: 0.7341 - val_loss: 0.6333 - learning_rate: 5.0000e-04\n",
      "Epoch 15/20\n",
      "\u001b[1m1122/1122\u001b[0m \u001b[32m━━━━━━━━━━━━━━━━━━━━\u001b[0m\u001b[37m\u001b[0m \u001b[1m0s\u001b[0m 1s/step - accuracy: 0.7366 - loss: 0.6336   \n",
      "Epoch 15: val_loss improved from 0.63042 to 0.62853, saving model to C:\\Users\\User\\PycharmProjects\\sentiment\\models\\zlozone\\lstm_best_model.h5\n"
     ]
    },
    {
     "name": "stderr",
     "output_type": "stream",
     "text": [
      "WARNING:absl:You are saving your model as an HDF5 file via `model.save()` or `keras.saving.save_model(model)`. This file format is considered legacy. We recommend using instead the native Keras format, e.g. `model.save('my_model.keras')` or `keras.saving.save_model(model, 'my_model.keras')`. \n"
     ]
    },
    {
     "name": "stdout",
     "output_type": "stream",
     "text": [
      "\u001b[1m1122/1122\u001b[0m \u001b[32m━━━━━━━━━━━━━━━━━━━━\u001b[0m\u001b[37m\u001b[0m \u001b[1m1218s\u001b[0m 1s/step - accuracy: 0.7366 - loss: 0.6336 - val_accuracy: 0.7371 - val_loss: 0.6285 - learning_rate: 5.0000e-04\n",
      "Epoch 16/20\n",
      "\u001b[1m1122/1122\u001b[0m \u001b[32m━━━━━━━━━━━━━━━━━━━━\u001b[0m\u001b[37m\u001b[0m \u001b[1m0s\u001b[0m 1s/step - accuracy: 0.7398 - loss: 0.6241   \n",
      "Epoch 16: val_loss did not improve from 0.62853\n",
      "\u001b[1m1122/1122\u001b[0m \u001b[32m━━━━━━━━━━━━━━━━━━━━\u001b[0m\u001b[37m\u001b[0m \u001b[1m1230s\u001b[0m 1s/step - accuracy: 0.7398 - loss: 0.6241 - val_accuracy: 0.7365 - val_loss: 0.6320 - learning_rate: 5.0000e-04\n",
      "Epoch 17/20\n",
      "\u001b[1m1122/1122\u001b[0m \u001b[32m━━━━━━━━━━━━━━━━━━━━\u001b[0m\u001b[37m\u001b[0m \u001b[1m0s\u001b[0m 1s/step - accuracy: 0.7379 - loss: 0.6260   \n",
      "Epoch 17: val_loss did not improve from 0.62853\n",
      "\n",
      "Epoch 17: ReduceLROnPlateau reducing learning rate to 0.0002500000118743628.\n",
      "\u001b[1m1122/1122\u001b[0m \u001b[32m━━━━━━━━━━━━━━━━━━━━\u001b[0m\u001b[37m\u001b[0m \u001b[1m1241s\u001b[0m 1s/step - accuracy: 0.7379 - loss: 0.6260 - val_accuracy: 0.7369 - val_loss: 0.6336 - learning_rate: 5.0000e-04\n",
      "Epoch 18/20\n",
      "\u001b[1m1122/1122\u001b[0m \u001b[32m━━━━━━━━━━━━━━━━━━━━\u001b[0m\u001b[37m\u001b[0m \u001b[1m0s\u001b[0m 1s/step - accuracy: 0.7456 - loss: 0.6109   \n",
      "Epoch 18: val_loss improved from 0.62853 to 0.62567, saving model to C:\\Users\\User\\PycharmProjects\\sentiment\\models\\zlozone\\lstm_best_model.h5\n"
     ]
    },
    {
     "name": "stderr",
     "output_type": "stream",
     "text": [
      "WARNING:absl:You are saving your model as an HDF5 file via `model.save()` or `keras.saving.save_model(model)`. This file format is considered legacy. We recommend using instead the native Keras format, e.g. `model.save('my_model.keras')` or `keras.saving.save_model(model, 'my_model.keras')`. \n"
     ]
    },
    {
     "name": "stdout",
     "output_type": "stream",
     "text": [
      "\u001b[1m1122/1122\u001b[0m \u001b[32m━━━━━━━━━━━━━━━━━━━━\u001b[0m\u001b[37m\u001b[0m \u001b[1m1234s\u001b[0m 1s/step - accuracy: 0.7456 - loss: 0.6109 - val_accuracy: 0.7383 - val_loss: 0.6257 - learning_rate: 2.5000e-04\n",
      "Epoch 19/20\n",
      "\u001b[1m 718/1122\u001b[0m \u001b[32m━━━━━━━━━━━━\u001b[0m\u001b[37m━━━━━━━━\u001b[0m \u001b[1m7:09\u001b[0m 1s/step - accuracy: 0.7466 - loss: 0.6065 "
     ]
    }
   ],
   "source": [
    "import pandas as pd\n",
    "import numpy as np\n",
    "import matplotlib.pyplot as plt\n",
    "import seaborn as sns\n",
    "import tensorflow as tf\n",
    "\n",
    "from tensorflow.keras.models import Sequential\n",
    "from tensorflow.keras.layers import Embedding, LSTM, Dense, Dropout, BatchNormalization, Bidirectional\n",
    "from tensorflow.keras.preprocessing.text import Tokenizer\n",
    "from tensorflow.keras.preprocessing.sequence import pad_sequences\n",
    "from tensorflow.keras.optimizers import Adam\n",
    "from tensorflow.keras.callbacks import ModelCheckpoint, EarlyStopping, ReduceLROnPlateau\n",
    "from sklearn.model_selection import train_test_split\n",
    "from sklearn.metrics import accuracy_score, classification_report, confusion_matrix\n",
    "from tensorflow.keras.preprocessing.text import tokenizer_from_json\n",
    "\n",
    "import json\n",
    "import os\n",
    "\n",
    "# Wczytanie danych\n",
    "df = pd.read_csv(r\"C:\\Users\\User\\PycharmProjects\\sentiment\\finaldata\\przefiltrowanebezprezydentapowinnobycok.csv\")\n",
    "\n",
    "# Podział na train/test\n",
    "X_train, X_test, y_train, y_test = train_test_split(df[\"text\"], df[\"sentiment\"], test_size=0.2, random_state=42, stratify=df[\"sentiment\"])\n",
    "\n",
    "# Mapowanie etykiet (0, 2, 4 → 0, 1, 2)\n",
    "y_train_mapped = y_train.map({0: 0, 2: 1, 4: 2})\n",
    "y_test_mapped = y_test.map({0: 0, 2: 1, 4: 2})\n",
    "\n",
    "# Tokenizacja i zamiana tekstu na sekwencje liczbowych tokenów\n",
    "MAX_WORDS = 20000\n",
    "MAX_LEN = 100\n",
    "EMBEDDING_DIM = 100  # Dopasowane do GloVe\n",
    "\n",
    "save_path = r\"C:\\Users\\User\\PycharmProjects\\sentiment\\models\\zlozone\"\n",
    "os.makedirs(save_path, exist_ok=True)\n",
    "tokenizer_path = os.path.join(save_path, \"tokenizer.json\")\n",
    "\n",
    "if os.path.exists(tokenizer_path):\n",
    "    with open(tokenizer_path, \"r\") as f:\n",
    "        tokenizer_json = json.load(f)\n",
    "        tokenizer = tokenizer_from_json(tokenizer_json)\n",
    "    print(\"✅ Wczytano zapisany tokenizer.\")\n",
    "else:\n",
    "    tokenizer = Tokenizer(num_words=MAX_WORDS, oov_token=\"<OOV>\")\n",
    "    tokenizer.fit_on_texts(X_train)\n",
    "    tokenizer_json = tokenizer.to_json()\n",
    "    with open(tokenizer_path, \"w\") as f:\n",
    "        json.dump(tokenizer_json, f)\n",
    "    print(\"✅ Tokenizer został utworzony i zapisany.\")\n",
    "\n",
    "X_train_seq = tokenizer.texts_to_sequences(X_train)\n",
    "X_test_seq = tokenizer.texts_to_sequences(X_test)\n",
    "\n",
    "# Padding\n",
    "X_train_pad = pad_sequences(X_train_seq, maxlen=MAX_LEN, padding='post', truncating='post')\n",
    "X_test_pad = pad_sequences(X_test_seq, maxlen=MAX_LEN, padding='post', truncating='post')\n",
    "\n",
    "# Wczytanie embeddingu GloVe\n",
    "embedding_index = {}\n",
    "with open(r\"C:\\Users\\User\\PycharmProjects\\sentiment\\notebooks\\glove.6B.100d.txt\", encoding=\"utf-8\") as f:\n",
    "    for line in f:\n",
    "        values = line.split()\n",
    "        word = values[0]\n",
    "        vector = np.asarray(values[1:], dtype=\"float32\")\n",
    "        embedding_index[word] = vector\n",
    "\n",
    "embedding_matrix = np.zeros((MAX_WORDS, EMBEDDING_DIM))\n",
    "for word, i in tokenizer.word_index.items():\n",
    "    if i < MAX_WORDS:\n",
    "        vector = embedding_index.get(word)\n",
    "        if vector is not None:\n",
    "            embedding_matrix[i] = vector\n",
    "\n",
    "# Budowa modelu\n",
    "model = Sequential([\n",
    "    Embedding(input_dim=MAX_WORDS, output_dim=EMBEDDING_DIM, weights=[embedding_matrix], input_length=MAX_LEN, trainable=False),  \n",
    "    \n",
    "    Bidirectional(LSTM(128, return_sequences=True, recurrent_dropout=0.2, dropout=0.2)),\n",
    "    BatchNormalization(),\n",
    "    Dropout(0.2),\n",
    "    \n",
    "    Bidirectional(LSTM(64, recurrent_dropout=0.2, dropout=0.2)),\n",
    "    BatchNormalization(),\n",
    "    Dropout(0.2),\n",
    "\n",
    "    Dense(64, activation=\"relu\", kernel_regularizer=tf.keras.regularizers.l2(0.01)),\n",
    "    Dropout(0.2),\n",
    "    \n",
    "    Dense(3, activation=\"softmax\")  \n",
    "])\n",
    "\n",
    "# Kompilacja modelu\n",
    "optimizer = Adam(learning_rate=0.0005)\n",
    "model.compile(loss=\"sparse_categorical_crossentropy\", optimizer=optimizer, metrics=[\"accuracy\"])\n",
    "\n",
    "# Callbacki\n",
    "best_model_path = os.path.join(save_path, \"lstm_best_model.h5\")\n",
    "\n",
    "checkpoint_callback = ModelCheckpoint(\n",
    "    best_model_path,\n",
    "    monitor=\"val_loss\",\n",
    "    save_best_only=True,\n",
    "    mode=\"min\",\n",
    "    verbose=1\n",
    ")\n",
    "\n",
    "early_stop_callback = EarlyStopping(monitor=\"val_loss\", patience=3, restore_best_weights=True, verbose=1)\n",
    "reduce_lr_callback = ReduceLROnPlateau(monitor=\"val_loss\", factor=0.5, patience=2, min_lr=1e-6, verbose=1)\n",
    "\n",
    "# Trenowanie modelu\n",
    "with tf.device('/GPU:0'):\n",
    "    history = model.fit(\n",
    "        X_train_pad, y_train_mapped,\n",
    "        epochs=20, batch_size=128,\n",
    "        validation_data=(X_test_pad, y_test_mapped),\n",
    "        callbacks=[checkpoint_callback, early_stop_callback, reduce_lr_callback]\n",
    "    )\n",
    "\n",
    "# Ewaluacja modelu\n",
    "y_pred = np.argmax(model.predict(X_test_pad), axis=1)\n",
    "accuracy = accuracy_score(y_test_mapped, y_pred)\n",
    "print(f\"\\n🔹 **Dokładność modelu LSTM: {accuracy:.4f}**\\n\")\n",
    "print(\"🔹 **Raport klasyfikacji:**\")\n",
    "print(classification_report(y_test_mapped, y_pred))\n",
    "\n",
    "# Macierz konfuzji\n",
    "cm = confusion_matrix(y_test_mapped, y_pred)\n",
    "plt.figure(figsize=(6, 5))\n",
    "sns.heatmap(cm, annot=True, fmt=\"d\", cmap=\"coolwarm\", xticklabels=[\"Negatywny\", \"Neutralny\", \"Pozytywny\"], yticklabels=[\"Negatywny\", \"Neutralny\", \"Pozytywny\"])\n",
    "plt.xlabel(\"Przewidywane\")\n",
    "plt.ylabel(\"Prawdziwe\")\n",
    "plt.title(\"🔹 Macierz konfuzji - LSTM\")\n",
    "plt.show()\n",
    "\n",
    "# Zapis modelu\n",
    "model.save(os.path.join(save_path, \"lstm_model_final1.h5\"))\n",
    "print(\"\\n✅ **Model LSTM i tokenizer zapisane poprawnie!**\")\n"
   ]
  },
  {
   "cell_type": "markdown",
   "id": "2cef1005877b5f73",
   "metadata": {},
   "source": [
    "<h1>CNN</h1>"
   ]
  },
  {
   "cell_type": "code",
   "execution_count": 3,
   "id": "b55477d1-0684-456c-855c-561be77e9288",
   "metadata": {},
   "outputs": [
    {
     "name": "stdout",
     "output_type": "stream",
     "text": [
      "Epoch 1/20\n",
      "1122/1122 [==============================] - ETA: 0s - loss: 1.3341 - accuracy: 0.4959   \n",
      "Epoch 1: val_loss improved from inf to 0.95535, saving model to C:\\Users\\User\\PycharmProjects\\sentiment\\models\\cnn\\cnn_best_model.h5\n",
      "1122/1122 [==============================] - 115s 101ms/step - loss: 1.3341 - accuracy: 0.4959 - val_loss: 0.9554 - val_accuracy: 0.6046 - lr: 0.0010\n",
      "Epoch 2/20\n",
      "   1/1122 [..............................] - ETA: 1:40 - loss: 0.8701 - accuracy: 0.5781"
     ]
    },
    {
     "name": "stderr",
     "output_type": "stream",
     "text": [
      "C:\\Users\\User\\miniconda3\\envs\\tf_env\\lib\\site-packages\\keras\\src\\engine\\training.py:3079: UserWarning: You are saving your model as an HDF5 file via `model.save()`. This file format is considered legacy. We recommend using instead the native Keras format, e.g. `model.save('my_model.keras')`.\n",
      "  saving_api.save_model(\n"
     ]
    },
    {
     "name": "stdout",
     "output_type": "stream",
     "text": [
      "1122/1122 [==============================] - ETA: 0s - loss: 0.7444 - accuracy: 0.7038  \n",
      "Epoch 2: val_loss improved from 0.95535 to 0.69541, saving model to C:\\Users\\User\\PycharmProjects\\sentiment\\models\\cnn\\cnn_best_model.h5\n",
      "1122/1122 [==============================] - 111s 99ms/step - loss: 0.7444 - accuracy: 0.7038 - val_loss: 0.6954 - val_accuracy: 0.7269 - lr: 0.0010\n",
      "Epoch 3/20\n",
      "1122/1122 [==============================] - ETA: 0s - loss: 0.6073 - accuracy: 0.7593  \n",
      "Epoch 3: val_loss improved from 0.69541 to 0.66627, saving model to C:\\Users\\User\\PycharmProjects\\sentiment\\models\\cnn\\cnn_best_model.h5\n",
      "1122/1122 [==============================] - 113s 100ms/step - loss: 0.6073 - accuracy: 0.7593 - val_loss: 0.6663 - val_accuracy: 0.7270 - lr: 0.0010\n",
      "Epoch 4/20\n",
      "1122/1122 [==============================] - ETA: 0s - loss: 0.5480 - accuracy: 0.7847  \n",
      "Epoch 4: val_loss did not improve from 0.66627\n",
      "1122/1122 [==============================] - 111s 99ms/step - loss: 0.5480 - accuracy: 0.7847 - val_loss: 0.6684 - val_accuracy: 0.7276 - lr: 0.0010\n",
      "Epoch 5/20\n",
      "1122/1122 [==============================] - ETA: 0s - loss: 0.5007 - accuracy: 0.8045  \n",
      "Epoch 5: val_loss did not improve from 0.66627\n",
      "\n",
      "Epoch 5: ReduceLROnPlateau reducing learning rate to 0.0005000000237487257.\n",
      "1122/1122 [==============================] - 112s 100ms/step - loss: 0.5007 - accuracy: 0.8045 - val_loss: 0.7177 - val_accuracy: 0.7206 - lr: 0.0010\n",
      "Epoch 6/20\n",
      "1122/1122 [==============================] - ETA: 0s - loss: 0.4148 - accuracy: 0.8406  \n",
      "Epoch 6: val_loss did not improve from 0.66627\n",
      "Restoring model weights from the end of the best epoch: 3.\n",
      "1122/1122 [==============================] - 112s 100ms/step - loss: 0.4148 - accuracy: 0.8406 - val_loss: 0.7357 - val_accuracy: 0.7122 - lr: 5.0000e-04\n",
      "Epoch 6: early stopping\n",
      "\n",
      "🏆 **Najlepsza epoka:** 3\n"
     ]
    },
    {
     "data": {
      "image/png": "[encoded data removed]",
      "text/plain": [
       "<Figure size 1200x500 with 2 Axes>"
      ]
     },
     "metadata": {},
     "output_type": "display_data"
    },
    {
     "name": "stdout",
     "output_type": "stream",
     "text": [
      "1122/1122 [==============================] - 6s 5ms/step\n",
      "\n",
      "🔹 **Dokładność modelu CNN: 0.7270**\n",
      "\n",
      "🔹 **Raport klasyfikacji:**\n",
      "              precision    recall  f1-score   support\n",
      "\n",
      "           0       0.65      0.78      0.71     11890\n",
      "           1       0.86      0.74      0.79     11953\n",
      "           2       0.70      0.66      0.68     12056\n",
      "\n",
      "    accuracy                           0.73     35899\n",
      "   macro avg       0.74      0.73      0.73     35899\n",
      "weighted avg       0.74      0.73      0.73     35899\n",
      "\n"
     ]
    },
    {
     "name": "stderr",
     "output_type": "stream",
     "text": [
      "C:\\Users\\User\\miniconda3\\envs\\tf_env\\lib\\site-packages\\IPython\\core\\pylabtools.py:170: UserWarning: Glyph 128313 (\\N{SMALL BLUE DIAMOND}) missing from font(s) DejaVu Sans.\n",
      "  fig.canvas.print_figure(bytes_io, **kw)\n"
     ]
    },
    {
     "data": {
      "image/png": "[encoded data removed]",
      "text/plain": [
       "<Figure size 600x500 with 2 Axes>"
      ]
     },
     "metadata": {},
     "output_type": "display_data"
    },
    {
     "name": "stderr",
     "output_type": "stream",
     "text": [
      "C:\\Users\\User\\miniconda3\\envs\\tf_env\\lib\\site-packages\\keras\\src\\engine\\training.py:3079: UserWarning: You are saving your model as an HDF5 file via `model.save()`. This file format is considered legacy. We recommend using instead the native Keras format, e.g. `model.save('my_model.keras')`.\n",
      "  saving_api.save_model(\n"
     ]
    },
    {
     "name": "stdout",
     "output_type": "stream",
     "text": [
      "\n",
      "✅ **Model CNN i tokenizer zapisane poprawnie!**\n"
     ]
    }
   ],
   "source": [
    "import pandas as pd\n",
    "import numpy as np\n",
    "import matplotlib.pyplot as plt\n",
    "import seaborn as sns\n",
    "import tensorflow as tf\n",
    "\n",
    "from tensorflow.keras.models import Sequential\n",
    "from tensorflow.keras.layers import Embedding, Conv1D, GlobalMaxPooling1D, Dense, Dropout, BatchNormalization\n",
    "from tensorflow.keras.preprocessing.text import Tokenizer\n",
    "from tensorflow.keras.preprocessing.sequence import pad_sequences\n",
    "from tensorflow.keras.optimizers import Adam\n",
    "from tensorflow.keras.callbacks import ModelCheckpoint, EarlyStopping, ReduceLROnPlateau\n",
    "from sklearn.model_selection import train_test_split\n",
    "from sklearn.metrics import accuracy_score, classification_report, confusion_matrix\n",
    "\n",
    "import json\n",
    "import os\n",
    "\n",
    "# Wczytanie danych\n",
    "df = pd.read_csv(r\"C:\\Users\\User\\PycharmProjects\\sentiment\\finaldata\\przefiltrowanebezprezydentapowinnobycok.csv\")\n",
    "\n",
    "\n",
    "X_train, X_test, y_train, y_test = train_test_split(df[\"text\"], df[\"sentiment\"], test_size=0.2, random_state=42)\n",
    "\n",
    "\n",
    "y_train_mapped = y_train.map({0: 0, 2: 1, 4: 2})\n",
    "y_test_mapped = y_test.map({0: 0, 2: 1, 4: 2})\n",
    "\n",
    "# Tokenizacja i zamiana tekstu na sekwencje liczbowych tokenów\n",
    "MAX_WORDS = 20000\n",
    "MAX_LEN = 100\n",
    "\n",
    "tokenizer = Tokenizer(num_words=MAX_WORDS, oov_token=\"<OOV>\")\n",
    "tokenizer.fit_on_texts(X_train)\n",
    "\n",
    "X_train_seq = tokenizer.texts_to_sequences(X_train)\n",
    "X_test_seq = tokenizer.texts_to_sequences(X_test)\n",
    "\n",
    "# Padding\n",
    "X_train_pad = pad_sequences(X_train_seq, maxlen=MAX_LEN, padding='post', truncating='post')\n",
    "X_test_pad = pad_sequences(X_test_seq, maxlen=MAX_LEN, padding='post', truncating='post')\n",
    "\n",
    "# Budowa modelu CNN\n",
    "EMBEDDING_DIM = 128\n",
    "LEARNING_RATE = 0.001\n",
    "\n",
    "model = Sequential([\n",
    "    Embedding(input_dim=MAX_WORDS, output_dim=EMBEDDING_DIM, input_length=MAX_LEN),  \n",
    "\n",
    "    Conv1D(128, kernel_size=5, activation='relu'),\n",
    "    BatchNormalization(),\n",
    "    Dropout(0.4),\n",
    "\n",
    "    Conv1D(64, kernel_size=5, activation='relu'),\n",
    "    BatchNormalization(),\n",
    "    Dropout(0.4),\n",
    "\n",
    "    GlobalMaxPooling1D(),\n",
    "\n",
    "    Dense(64, activation=\"relu\", kernel_regularizer=tf.keras.regularizers.l2(0.01)),\n",
    "    Dropout(0.4),\n",
    "\n",
    "    Dense(3, activation=\"softmax\")  \n",
    "])\n",
    "\n",
    "# Kompilacja modelu\n",
    "optimizer = Adam(learning_rate=LEARNING_RATE)\n",
    "model.compile(loss=\"sparse_categorical_crossentropy\", optimizer=optimizer, metrics=[\"accuracy\"])\n",
    "\n",
    "#Callbacki\n",
    "save_path = r\"C:\\Users\\User\\PycharmProjects\\sentiment\\models\\cnn\"\n",
    "os.makedirs(save_path, exist_ok=True)\n",
    "\n",
    "best_model_path = os.path.join(save_path, \"cnn_best_model.h5\")\n",
    "\n",
    "checkpoint_callback = ModelCheckpoint(\n",
    "    best_model_path,\n",
    "    monitor=\"val_loss\",\n",
    "    save_best_only=True,\n",
    "    mode=\"min\",\n",
    "    verbose=1\n",
    ")\n",
    "\n",
    "early_stop_callback = EarlyStopping(monitor=\"val_loss\", patience=3, restore_best_weights=True, verbose=1)\n",
    "reduce_lr_callback = ReduceLROnPlateau(monitor=\"val_loss\", factor=0.5, patience=2, min_lr=1e-6, verbose=1)\n",
    "\n",
    "# Trenowanie modelu\n",
    "history = model.fit(\n",
    "    X_train_pad, y_train_mapped,\n",
    "    epochs=20, batch_size=128,\n",
    "    validation_data=(X_test_pad, y_test_mapped),\n",
    "    callbacks=[checkpoint_callback, early_stop_callback, reduce_lr_callback]\n",
    ")\n",
    "\n",
    "#Najlepsza epoka\n",
    "best_epoch = np.argmin(history.history[\"val_loss\"]) + 1\n",
    "print(f\"\\n🏆 **Najlepsza epoka:** {best_epoch}\")\n",
    "\n",
    "#Wizualizacja wyników\n",
    "plt.figure(figsize=(12, 5))\n",
    "\n",
    "plt.subplot(1, 2, 1)\n",
    "plt.plot(history.history['accuracy'], label='Train Accuracy')\n",
    "plt.plot(history.history['val_accuracy'], label='Val Accuracy')\n",
    "plt.xlabel('Epoki')\n",
    "plt.ylabel('Accuracy')\n",
    "plt.legend()\n",
    "plt.title('Dokładność modelu CNN')\n",
    "\n",
    "plt.subplot(1, 2, 2)\n",
    "plt.plot(history.history['loss'], label='Train Loss')\n",
    "plt.plot(history.history['val_loss'], label='Val Loss')\n",
    "plt.xlabel('Epoki')\n",
    "plt.ylabel('Loss')\n",
    "plt.legend()\n",
    "plt.title('Strata modelu CNN')\n",
    "\n",
    "plt.savefig(os.path.join(save_path, \"training_plot.png\"))\n",
    "plt.show()\n",
    "\n",
    "#Ewaluacja modelu\n",
    "y_pred = np.argmax(model.predict(X_test_pad), axis=1)\n",
    "accuracy = accuracy_score(y_test_mapped, y_pred)\n",
    "print(f\"\\n **Dokładność modelu CNN: {accuracy:.4f}**\\n\")\n",
    "print(\" **Raport klasyfikacji:**\")\n",
    "print(classification_report(y_test_mapped, y_pred))\n",
    "\n",
    "#Macierz konfuzji\n",
    "cm = confusion_matrix(y_test_mapped, y_pred)\n",
    "plt.figure(figsize=(6, 5))\n",
    "sns.heatmap(cm, annot=True, fmt=\"d\", cmap=\"coolwarm\", xticklabels=[\"Negatywny\", \"Neutralny\", \"Pozytywny\"], yticklabels=[\"Negatywny\", \"Neutralny\", \"Pozytywny\"])\n",
    "plt.xlabel(\"Przewidywane\")\n",
    "plt.ylabel(\"Prawdziwe\")\n",
    "plt.title(\" Macierz konfuzji - CNN\")\n",
    "plt.show()\n",
    "\n",
    "# Zapis modelu i tokenizera\n",
    "model.save(os.path.join(save_path, \"cnn_model_final.h5\"))\n",
    "\n",
    "# Tokenizer\n",
    "tokenizer_json = tokenizer.to_json()\n",
    "with open(os.path.join(save_path, \"tokenizer.json\"), \"w\") as f:\n",
    "    json.dump(tokenizer_json, f)\n",
    "\n",
    "print(\"\\n✅ **Model CNN i tokenizer zapisane poprawnie!**\")\n"
   ]
  },
  {
   "cell_type": "markdown",
   "id": "430f92b9369afa44",
   "metadata": {},
   "source": [
    "<h1>ULMFiT</h1>"
   ]
  },
  {
   "cell_type": "code",
   "execution_count": 2,
   "id": "f0934b2a-db92-4144-af9a-faa071fd2db3",
   "metadata": {},
   "outputs": [
    {
     "name": "stdout",
     "output_type": "stream",
     "text": [
      "Due to IPython and Windows limitation, python multiprocessing isn't available now.\n",
      "So `n_workers` has to be changed to 0 to avoid getting stuck\n"
     ]
    },
    {
     "name": "stderr",
     "output_type": "stream",
     "text": [
      "C:\\Users\\User\\miniconda3\\envs\\tf_env\\lib\\site-packages\\fastai\\text\\learner.py:149: FutureWarning: You are using `torch.load` with `weights_only=False` (the current default value), which uses the default pickle module implicitly. It is possible to construct malicious pickle data which will execute arbitrary code during unpickling (See https://github.com/pytorch/pytorch/blob/main/SECURITY.md#untrusted-models for more details). In a future release, the default value for `weights_only` will be flipped to `True`. This limits the functions that could be executed during unpickling. Arbitrary objects will no longer be allowed to be loaded via this mode unless they are explicitly allowlisted by the user via `torch.serialization.add_safe_globals`. We recommend you start setting `weights_only=True` for any use case where you don't have full control of the loaded file. Please open an issue on GitHub for any issues related to this experimental feature.\n",
      "  wgts = torch.load(wgts_fname, map_location = lambda storage,loc: storage)\n"
     ]
    },
    {
     "data": {
      "text/html": [
       "\n",
       "<style>\n",
       "    /* Turns off some styling */\n",
       "    progress {\n",
       "        /* gets rid of default border in Firefox and Opera. */\n",
       "        border: none;\n",
       "        /* Needs to be in here for Safari polyfill so background images work as expected. */\n",
       "        background-size: auto;\n",
       "    }\n",
       "    progress:not([value]), progress:not([value])::-webkit-progress-bar {\n",
       "        background: repeating-linear-gradient(45deg, #7e7e7e, #7e7e7e 10px, #5c5c5c 10px, #5c5c5c 20px);\n",
       "    }\n",
       "    .progress-bar-interrupted, .progress-bar-interrupted::-webkit-progress-bar {\n",
       "        background: #F44336;\n",
       "    }\n",
       "</style>\n"
      ],
      "text/plain": [
       "<IPython.core.display.HTML object>"
      ]
     },
     "metadata": {},
     "output_type": "display_data"
    },
    {
     "data": {
      "text/html": [
       "<table border=\"1\" class=\"dataframe\">\n",
       "  <thead>\n",
       "    <tr style=\"text-align: left;\">\n",
       "      <th>epoch</th>\n",
       "      <th>train_loss</th>\n",
       "      <th>valid_loss</th>\n",
       "      <th>accuracy</th>\n",
       "      <th>time</th>\n",
       "    </tr>\n",
       "  </thead>\n",
       "  <tbody>\n",
       "    <tr>\n",
       "      <td>0</td>\n",
       "      <td>0.964754</td>\n",
       "      <td>0.891612</td>\n",
       "      <td>0.581621</td>\n",
       "      <td>06:55</td>\n",
       "    </tr>\n",
       "  </tbody>\n",
       "</table>"
      ],
      "text/plain": [
       "<IPython.core.display.HTML object>"
      ]
     },
     "metadata": {},
     "output_type": "display_data"
    },
    {
     "name": "stdout",
     "output_type": "stream",
     "text": [
      "Better model found at epoch 0 with valid_loss value: 0.8916119933128357.\n"
     ]
    },
    {
     "name": "stderr",
     "output_type": "stream",
     "text": [
      "C:\\Users\\User\\miniconda3\\envs\\tf_env\\lib\\site-packages\\fastai\\text\\learner.py:92: FutureWarning: You are using `torch.load` with `weights_only=False` (the current default value), which uses the default pickle module implicitly. It is possible to construct malicious pickle data which will execute arbitrary code during unpickling (See https://github.com/pytorch/pytorch/blob/main/SECURITY.md#untrusted-models for more details). In a future release, the default value for `weights_only` will be flipped to `True`. This limits the functions that could be executed during unpickling. Arbitrary objects will no longer be allowed to be loaded via this mode unless they are explicitly allowlisted by the user via `torch.serialization.add_safe_globals`. We recommend you start setting `weights_only=True` for any use case where you don't have full control of the loaded file. Please open an issue on GitHub for any issues related to this experimental feature.\n",
      "  state = torch.load(file, map_location=device)\n"
     ]
    },
    {
     "data": {
      "text/html": [
       "\n",
       "<style>\n",
       "    /* Turns off some styling */\n",
       "    progress {\n",
       "        /* gets rid of default border in Firefox and Opera. */\n",
       "        border: none;\n",
       "        /* Needs to be in here for Safari polyfill so background images work as expected. */\n",
       "        background-size: auto;\n",
       "    }\n",
       "    progress:not([value]), progress:not([value])::-webkit-progress-bar {\n",
       "        background: repeating-linear-gradient(45deg, #7e7e7e, #7e7e7e 10px, #5c5c5c 10px, #5c5c5c 20px);\n",
       "    }\n",
       "    .progress-bar-interrupted, .progress-bar-interrupted::-webkit-progress-bar {\n",
       "        background: #F44336;\n",
       "    }\n",
       "</style>\n"
      ],
      "text/plain": [
       "<IPython.core.display.HTML object>"
      ]
     },
     "metadata": {},
     "output_type": "display_data"
    },
    {
     "data": {
      "text/html": [
       "<table border=\"1\" class=\"dataframe\">\n",
       "  <thead>\n",
       "    <tr style=\"text-align: left;\">\n",
       "      <th>epoch</th>\n",
       "      <th>train_loss</th>\n",
       "      <th>valid_loss</th>\n",
       "      <th>accuracy</th>\n",
       "      <th>time</th>\n",
       "    </tr>\n",
       "  </thead>\n",
       "  <tbody>\n",
       "    <tr>\n",
       "      <td>0</td>\n",
       "      <td>0.845180</td>\n",
       "      <td>0.764028</td>\n",
       "      <td>0.664218</td>\n",
       "      <td>16:31</td>\n",
       "    </tr>\n",
       "    <tr>\n",
       "      <td>1</td>\n",
       "      <td>0.778953</td>\n",
       "      <td>0.709325</td>\n",
       "      <td>0.700153</td>\n",
       "      <td>16:18</td>\n",
       "    </tr>\n",
       "    <tr>\n",
       "      <td>2</td>\n",
       "      <td>0.755289</td>\n",
       "      <td>0.684955</td>\n",
       "      <td>0.710182</td>\n",
       "      <td>16:17</td>\n",
       "    </tr>\n",
       "    <tr>\n",
       "      <td>3</td>\n",
       "      <td>0.701189</td>\n",
       "      <td>0.666219</td>\n",
       "      <td>0.721603</td>\n",
       "      <td>16:13</td>\n",
       "    </tr>\n",
       "    <tr>\n",
       "      <td>4</td>\n",
       "      <td>0.692471</td>\n",
       "      <td>0.660445</td>\n",
       "      <td>0.722543</td>\n",
       "      <td>16:24</td>\n",
       "    </tr>\n",
       "    <tr>\n",
       "      <td>5</td>\n",
       "      <td>0.686871</td>\n",
       "      <td>0.649305</td>\n",
       "      <td>0.730134</td>\n",
       "      <td>16:21</td>\n",
       "    </tr>\n",
       "    <tr>\n",
       "      <td>6</td>\n",
       "      <td>0.651210</td>\n",
       "      <td>0.644977</td>\n",
       "      <td>0.732224</td>\n",
       "      <td>16:17</td>\n",
       "    </tr>\n",
       "    <tr>\n",
       "      <td>7</td>\n",
       "      <td>0.622764</td>\n",
       "      <td>0.648312</td>\n",
       "      <td>0.731910</td>\n",
       "      <td>16:22</td>\n",
       "    </tr>\n",
       "    <tr>\n",
       "      <td>8</td>\n",
       "      <td>0.622212</td>\n",
       "      <td>0.646455</td>\n",
       "      <td>0.732746</td>\n",
       "      <td>16:20</td>\n",
       "    </tr>\n",
       "    <tr>\n",
       "      <td>9</td>\n",
       "      <td>0.611306</td>\n",
       "      <td>0.654103</td>\n",
       "      <td>0.732015</td>\n",
       "      <td>16:22</td>\n",
       "    </tr>\n",
       "  </tbody>\n",
       "</table>"
      ],
      "text/plain": [
       "<IPython.core.display.HTML object>"
      ]
     },
     "metadata": {},
     "output_type": "display_data"
    },
    {
     "name": "stdout",
     "output_type": "stream",
     "text": [
      "Better model found at epoch 0 with valid_loss value: 0.7640281319618225.\n",
      "Better model found at epoch 1 with valid_loss value: 0.7093247771263123.\n",
      "Better model found at epoch 2 with valid_loss value: 0.6849550604820251.\n",
      "Better model found at epoch 3 with valid_loss value: 0.6662194728851318.\n",
      "Better model found at epoch 4 with valid_loss value: 0.6604450345039368.\n",
      "Better model found at epoch 5 with valid_loss value: 0.6493046283721924.\n",
      "Better model found at epoch 6 with valid_loss value: 0.6449774503707886.\n",
      "No improvement since epoch 6: early stopping\n"
     ]
    },
    {
     "name": "stderr",
     "output_type": "stream",
     "text": [
      "C:\\Users\\User\\miniconda3\\envs\\tf_env\\lib\\site-packages\\fastai\\text\\learner.py:92: FutureWarning: You are using `torch.load` with `weights_only=False` (the current default value), which uses the default pickle module implicitly. It is possible to construct malicious pickle data which will execute arbitrary code during unpickling (See https://github.com/pytorch/pytorch/blob/main/SECURITY.md#untrusted-models for more details). In a future release, the default value for `weights_only` will be flipped to `True`. This limits the functions that could be executed during unpickling. Arbitrary objects will no longer be allowed to be loaded via this mode unless they are explicitly allowlisted by the user via `torch.serialization.add_safe_globals`. We recommend you start setting `weights_only=True` for any use case where you don't have full control of the loaded file. Please open an issue on GitHub for any issues related to this experimental feature.\n",
      "  state = torch.load(file, map_location=device)\n"
     ]
    },
    {
     "data": {
      "text/html": [
       "\n",
       "<style>\n",
       "    /* Turns off some styling */\n",
       "    progress {\n",
       "        /* gets rid of default border in Firefox and Opera. */\n",
       "        border: none;\n",
       "        /* Needs to be in here for Safari polyfill so background images work as expected. */\n",
       "        background-size: auto;\n",
       "    }\n",
       "    progress:not([value]), progress:not([value])::-webkit-progress-bar {\n",
       "        background: repeating-linear-gradient(45deg, #7e7e7e, #7e7e7e 10px, #5c5c5c 10px, #5c5c5c 20px);\n",
       "    }\n",
       "    .progress-bar-interrupted, .progress-bar-interrupted::-webkit-progress-bar {\n",
       "        background: #F44336;\n",
       "    }\n",
       "</style>\n"
      ],
      "text/plain": [
       "<IPython.core.display.HTML object>"
      ]
     },
     "metadata": {},
     "output_type": "display_data"
    },
    {
     "data": {
      "text/html": [],
      "text/plain": [
       "<IPython.core.display.HTML object>"
      ]
     },
     "metadata": {},
     "output_type": "display_data"
    },
    {
     "name": "stdout",
     "output_type": "stream",
     "text": [
      "\n",
      "🏆 **Najlepsza dokładność modelu ULMFiT: 0.7322**\n",
      "\n",
      "\n",
      "✅ **Najlepsza epoka modelu ULMFiT zapisana poprawnie!**\n"
     ]
    }
   ],
   "source": [
    "import pandas as pd\n",
    "from fastai.text.all import *\n",
    "from sklearn.model_selection import train_test_split\n",
    "from fastai.callback.tracker import SaveModelCallback\n",
    "\n",
    "import os\n",
    "\n",
    "df = pd.read_csv(r\"C:\\Users\\User\\PycharmProjects\\sentiment\\finaldata\\przefiltrowanebezprezydentapowinnobycok.csv\")\n",
    "\n",
    "#Mapowanie etykiet (0, 2, 4 → 0, 1, 2)\n",
    "df[\"sentiment\"] = df[\"sentiment\"].map({0: 0, 2: 1, 4: 2})\n",
    "\n",
    "#Podział na train/test\n",
    "df_train, df_test = train_test_split(df, test_size=0.2, random_state=42)\n",
    "\n",
    "# Tworzenie DataLoaders (z `num_workers=0` na Windowsie)\n",
    "dls = TextDataLoaders.from_df(df_train, text_col=\"text\", label_col=\"sentiment\", valid_pct=0.2, bs=64, num_workers=0)\n",
    "\n",
    "#Budowa modelu ULMFiT\n",
    "learn = text_classifier_learner(dls, AWD_LSTM, metrics=accuracy)\n",
    "\n",
    "# Dodanie callbacków:\n",
    "# - SaveModelCallback → zapisuje najlepszy model\n",
    "# - EarlyStoppingCallback → zatrzymuje trening, jeśli nie ma poprawy\n",
    "callbacks = [\n",
    "    SaveModelCallback(monitor=\"valid_loss\", fname=\"best_ulmfit\", comp=np.less),  # Poprawiona kolejność argumentów\n",
    "    EarlyStoppingCallback(monitor=\"valid_loss\", patience=3)  # Kolejność poprawna\n",
    "]\n",
    "\n",
    "# Trening modelu (FastAI sam wybierze najlepszą epokę)\n",
    "learn.fine_tune(10, cbs=callbacks)\n",
    "\n",
    "# Wczytanie najlepszego modelu\n",
    "learn.load(\"best_ulmfit\")\n",
    "\n",
    "# Ewaluacja modelu\n",
    "accuracy = learn.validate()[1]\n",
    "print(f\"\\n🏆 **Najlepsza dokładność modelu ULMFiT: {accuracy:.4f}**\\n\")\n",
    "\n",
    "# Zapis najlepszego modelu\n",
    "save_path = r\"C:\\Users\\User\\PycharmProjects\\sentiment\\models\\ulmfit\"\n",
    "os.makedirs(save_path, exist_ok=True)\n",
    "learn.export(os.path.join(save_path, \"best_ulmfit.pkl\"))\n",
    "\n",
    "print(\"\\n✅ **Najlepsza epoka modelu ULMFiT zapisana poprawnie!**\")\n"
   ]
  },
  {
   "cell_type": "code",
   "execution_count": 1,
   "id": "606ead33-4109-4870-a6f5-fd1da356e0cb",
   "metadata": {},
   "outputs": [
    {
     "name": "stdout",
     "output_type": "stream",
     "text": [
      "✅ Wczytano zapisany tokenizer.\n"
     ]
    },
    {
     "name": "stderr",
     "output_type": "stream",
     "text": [
      "C:\\Users\\User\\miniconda3\\envs\\tf_env\\lib\\site-packages\\keras\\src\\layers\\core\\embedding.py:90: UserWarning: Argument `input_length` is deprecated. Just remove it.\n",
      "  warnings.warn(\n"
     ]
    },
    {
     "name": "stdout",
     "output_type": "stream",
     "text": [
      "Epoch 1/10\n",
      "\u001b[1m1122/1122\u001b[0m \u001b[32m━━━━━━━━━━━━━━━━━━━━\u001b[0m\u001b[37m\u001b[0m \u001b[1m0s\u001b[0m 1s/step - accuracy: 0.5197 - loss: 1.4754      \n",
      "Epoch 1: val_loss improved from inf to 0.81800, saving model to C:\\Users\\User\\PycharmProjects\\sentiment\\models\\zlozone\\lstm_eval_best_model.h5\n"
     ]
    },
    {
     "name": "stderr",
     "output_type": "stream",
     "text": [
      "WARNING:absl:You are saving your model as an HDF5 file via `model.save()` or `keras.saving.save_model(model)`. This file format is considered legacy. We recommend using instead the native Keras format, e.g. `model.save('my_model.keras')` or `keras.saving.save_model(model, 'my_model.keras')`. \n"
     ]
    },
    {
     "name": "stdout",
     "output_type": "stream",
     "text": [
      "\u001b[1m1122/1122\u001b[0m \u001b[32m━━━━━━━━━━━━━━━━━━━━\u001b[0m\u001b[37m\u001b[0m \u001b[1m1193s\u001b[0m 1s/step - accuracy: 0.5198 - loss: 1.4751 - val_accuracy: 0.6593 - val_loss: 0.8180 - learning_rate: 5.0000e-04\n",
      "Epoch 2/10\n",
      "\u001b[1m1122/1122\u001b[0m \u001b[32m━━━━━━━━━━━━━━━━━━━━\u001b[0m\u001b[37m\u001b[0m \u001b[1m0s\u001b[0m 986ms/step - accuracy: 0.6474 - loss: 0.8169   \n",
      "Epoch 2: val_loss improved from 0.81800 to 0.72649, saving model to C:\\Users\\User\\PycharmProjects\\sentiment\\models\\zlozone\\lstm_eval_best_model.h5\n"
     ]
    },
    {
     "name": "stderr",
     "output_type": "stream",
     "text": [
      "WARNING:absl:You are saving your model as an HDF5 file via `model.save()` or `keras.saving.save_model(model)`. This file format is considered legacy. We recommend using instead the native Keras format, e.g. `model.save('my_model.keras')` or `keras.saving.save_model(model, 'my_model.keras')`. \n"
     ]
    },
    {
     "name": "stdout",
     "output_type": "stream",
     "text": [
      "\u001b[1m1122/1122\u001b[0m \u001b[32m━━━━━━━━━━━━━━━━━━━━\u001b[0m\u001b[37m\u001b[0m \u001b[1m1147s\u001b[0m 1s/step - accuracy: 0.6474 - loss: 0.8169 - val_accuracy: 0.6892 - val_loss: 0.7265 - learning_rate: 5.0000e-04\n",
      "Epoch 3/10\n",
      "\u001b[1m1122/1122\u001b[0m \u001b[32m━━━━━━━━━━━━━━━━━━━━\u001b[0m\u001b[37m\u001b[0m \u001b[1m0s\u001b[0m 984ms/step - accuracy: 0.6721 - loss: 0.7598    \n",
      "Epoch 3: val_loss improved from 0.72649 to 0.69640, saving model to C:\\Users\\User\\PycharmProjects\\sentiment\\models\\zlozone\\lstm_eval_best_model.h5\n"
     ]
    },
    {
     "name": "stderr",
     "output_type": "stream",
     "text": [
      "WARNING:absl:You are saving your model as an HDF5 file via `model.save()` or `keras.saving.save_model(model)`. This file format is considered legacy. We recommend using instead the native Keras format, e.g. `model.save('my_model.keras')` or `keras.saving.save_model(model, 'my_model.keras')`. \n"
     ]
    },
    {
     "name": "stdout",
     "output_type": "stream",
     "text": [
      "\u001b[1m1122/1122\u001b[0m \u001b[32m━━━━━━━━━━━━━━━━━━━━\u001b[0m\u001b[37m\u001b[0m \u001b[1m1145s\u001b[0m 1s/step - accuracy: 0.6721 - loss: 0.7598 - val_accuracy: 0.7063 - val_loss: 0.6964 - learning_rate: 5.0000e-04\n",
      "Epoch 4/10\n",
      "\u001b[1m1122/1122\u001b[0m \u001b[32m━━━━━━━━━━━━━━━━━━━━\u001b[0m\u001b[37m\u001b[0m \u001b[1m0s\u001b[0m 985ms/step - accuracy: 0.6917 - loss: 0.7234    \n",
      "Epoch 4: val_loss improved from 0.69640 to 0.69547, saving model to C:\\Users\\User\\PycharmProjects\\sentiment\\models\\zlozone\\lstm_eval_best_model.h5\n"
     ]
    },
    {
     "name": "stderr",
     "output_type": "stream",
     "text": [
      "WARNING:absl:You are saving your model as an HDF5 file via `model.save()` or `keras.saving.save_model(model)`. This file format is considered legacy. We recommend using instead the native Keras format, e.g. `model.save('my_model.keras')` or `keras.saving.save_model(model, 'my_model.keras')`. \n"
     ]
    },
    {
     "name": "stdout",
     "output_type": "stream",
     "text": [
      "\u001b[1m1122/1122\u001b[0m \u001b[32m━━━━━━━━━━━━━━━━━━━━\u001b[0m\u001b[37m\u001b[0m \u001b[1m1146s\u001b[0m 1s/step - accuracy: 0.6917 - loss: 0.7234 - val_accuracy: 0.7023 - val_loss: 0.6955 - learning_rate: 5.0000e-04\n",
      "Epoch 5/10\n",
      "\u001b[1m1122/1122\u001b[0m \u001b[32m━━━━━━━━━━━━━━━━━━━━\u001b[0m\u001b[37m\u001b[0m \u001b[1m0s\u001b[0m 997ms/step - accuracy: 0.7005 - loss: 0.7075   \n",
      "Epoch 5: val_loss improved from 0.69547 to 0.67280, saving model to C:\\Users\\User\\PycharmProjects\\sentiment\\models\\zlozone\\lstm_eval_best_model.h5\n"
     ]
    },
    {
     "name": "stderr",
     "output_type": "stream",
     "text": [
      "WARNING:absl:You are saving your model as an HDF5 file via `model.save()` or `keras.saving.save_model(model)`. This file format is considered legacy. We recommend using instead the native Keras format, e.g. `model.save('my_model.keras')` or `keras.saving.save_model(model, 'my_model.keras')`. \n"
     ]
    },
    {
     "name": "stdout",
     "output_type": "stream",
     "text": [
      "\u001b[1m1122/1122\u001b[0m \u001b[32m━━━━━━━━━━━━━━━━━━━━\u001b[0m\u001b[37m\u001b[0m \u001b[1m1161s\u001b[0m 1s/step - accuracy: 0.7005 - loss: 0.7075 - val_accuracy: 0.7165 - val_loss: 0.6728 - learning_rate: 5.0000e-04\n",
      "Epoch 6/10\n",
      "\u001b[1m1122/1122\u001b[0m \u001b[32m━━━━━━━━━━━━━━━━━━━━\u001b[0m\u001b[37m\u001b[0m \u001b[1m0s\u001b[0m 1s/step - accuracy: 0.7085 - loss: 0.6911   \n",
      "Epoch 6: val_loss improved from 0.67280 to 0.66319, saving model to C:\\Users\\User\\PycharmProjects\\sentiment\\models\\zlozone\\lstm_eval_best_model.h5\n"
     ]
    },
    {
     "name": "stderr",
     "output_type": "stream",
     "text": [
      "WARNING:absl:You are saving your model as an HDF5 file via `model.save()` or `keras.saving.save_model(model)`. This file format is considered legacy. We recommend using instead the native Keras format, e.g. `model.save('my_model.keras')` or `keras.saving.save_model(model, 'my_model.keras')`. \n"
     ]
    },
    {
     "name": "stdout",
     "output_type": "stream",
     "text": [
      "\u001b[1m1122/1122\u001b[0m \u001b[32m━━━━━━━━━━━━━━━━━━━━\u001b[0m\u001b[37m\u001b[0m \u001b[1m1181s\u001b[0m 1s/step - accuracy: 0.7085 - loss: 0.6911 - val_accuracy: 0.7221 - val_loss: 0.6632 - learning_rate: 5.0000e-04\n",
      "Epoch 7/10\n",
      "\u001b[1m1122/1122\u001b[0m \u001b[32m━━━━━━━━━━━━━━━━━━━━\u001b[0m\u001b[37m\u001b[0m \u001b[1m0s\u001b[0m 1s/step - accuracy: 0.7130 - loss: 0.6783   \n",
      "Epoch 7: val_loss did not improve from 0.66319\n",
      "\u001b[1m1122/1122\u001b[0m \u001b[32m━━━━━━━━━━━━━━━━━━━━\u001b[0m\u001b[37m\u001b[0m \u001b[1m1189s\u001b[0m 1s/step - accuracy: 0.7130 - loss: 0.6783 - val_accuracy: 0.7231 - val_loss: 0.6634 - learning_rate: 5.0000e-04\n",
      "Epoch 8/10\n",
      "\u001b[1m1122/1122\u001b[0m \u001b[32m━━━━━━━━━━━━━━━━━━━━\u001b[0m\u001b[37m\u001b[0m \u001b[1m0s\u001b[0m 1s/step - accuracy: 0.7186 - loss: 0.6729   \n",
      "Epoch 8: val_loss improved from 0.66319 to 0.65837, saving model to C:\\Users\\User\\PycharmProjects\\sentiment\\models\\zlozone\\lstm_eval_best_model.h5\n"
     ]
    },
    {
     "name": "stderr",
     "output_type": "stream",
     "text": [
      "WARNING:absl:You are saving your model as an HDF5 file via `model.save()` or `keras.saving.save_model(model)`. This file format is considered legacy. We recommend using instead the native Keras format, e.g. `model.save('my_model.keras')` or `keras.saving.save_model(model, 'my_model.keras')`. \n"
     ]
    },
    {
     "name": "stdout",
     "output_type": "stream",
     "text": [
      "\u001b[1m1122/1122\u001b[0m \u001b[32m━━━━━━━━━━━━━━━━━━━━\u001b[0m\u001b[37m\u001b[0m \u001b[1m1167s\u001b[0m 1s/step - accuracy: 0.7186 - loss: 0.6729 - val_accuracy: 0.7259 - val_loss: 0.6584 - learning_rate: 5.0000e-04\n",
      "Epoch 9/10\n",
      "\u001b[1m1122/1122\u001b[0m \u001b[32m━━━━━━━━━━━━━━━━━━━━\u001b[0m\u001b[37m\u001b[0m \u001b[1m0s\u001b[0m 1s/step - accuracy: 0.7226 - loss: 0.6637   \n",
      "Epoch 9: val_loss improved from 0.65837 to 0.64983, saving model to C:\\Users\\User\\PycharmProjects\\sentiment\\models\\zlozone\\lstm_eval_best_model.h5\n"
     ]
    },
    {
     "name": "stderr",
     "output_type": "stream",
     "text": [
      "WARNING:absl:You are saving your model as an HDF5 file via `model.save()` or `keras.saving.save_model(model)`. This file format is considered legacy. We recommend using instead the native Keras format, e.g. `model.save('my_model.keras')` or `keras.saving.save_model(model, 'my_model.keras')`. \n"
     ]
    },
    {
     "name": "stdout",
     "output_type": "stream",
     "text": [
      "\u001b[1m1122/1122\u001b[0m \u001b[32m━━━━━━━━━━━━━━━━━━━━\u001b[0m\u001b[37m\u001b[0m \u001b[1m1179s\u001b[0m 1s/step - accuracy: 0.7226 - loss: 0.6637 - val_accuracy: 0.7267 - val_loss: 0.6498 - learning_rate: 5.0000e-04\n",
      "Epoch 10/10\n",
      "\u001b[1m1122/1122\u001b[0m \u001b[32m━━━━━━━━━━━━━━━━━━━━\u001b[0m\u001b[37m\u001b[0m \u001b[1m0s\u001b[0m 1s/step - accuracy: 0.7267 - loss: 0.6571   \n",
      "Epoch 10: val_loss improved from 0.64983 to 0.64146, saving model to C:\\Users\\User\\PycharmProjects\\sentiment\\models\\zlozone\\lstm_eval_best_model.h5\n"
     ]
    },
    {
     "name": "stderr",
     "output_type": "stream",
     "text": [
      "WARNING:absl:You are saving your model as an HDF5 file via `model.save()` or `keras.saving.save_model(model)`. This file format is considered legacy. We recommend using instead the native Keras format, e.g. `model.save('my_model.keras')` or `keras.saving.save_model(model, 'my_model.keras')`. \n"
     ]
    },
    {
     "name": "stdout",
     "output_type": "stream",
     "text": [
      "\u001b[1m1122/1122\u001b[0m \u001b[32m━━━━━━━━━━━━━━━━━━━━\u001b[0m\u001b[37m\u001b[0m \u001b[1m1184s\u001b[0m 1s/step - accuracy: 0.7267 - loss: 0.6571 - val_accuracy: 0.7328 - val_loss: 0.6415 - learning_rate: 5.0000e-04\n",
      "Restoring model weights from the end of the best epoch: 10.\n",
      "\u001b[1m1122/1122\u001b[0m \u001b[32m━━━━━━━━━━━━━━━━━━━━\u001b[0m\u001b[37m\u001b[0m \u001b[1m88s\u001b[0m 77ms/step \n",
      "\n",
      "🔹 **Dokładność modelu LSTM: 0.7328**\n",
      "\n",
      "🔹 **Raport klasyfikacji:**\n",
      "              precision    recall  f1-score   support\n",
      "\n",
      "           0       0.68      0.75      0.71     11978\n",
      "           1       0.90      0.72      0.80     11955\n",
      "           2       0.67      0.72      0.69     11966\n",
      "\n",
      "    accuracy                           0.73     35899\n",
      "   macro avg       0.75      0.73      0.74     35899\n",
      "weighted avg       0.75      0.73      0.74     35899\n",
      "\n"
     ]
    },
    {
     "name": "stderr",
     "output_type": "stream",
     "text": [
      "C:\\Users\\User\\miniconda3\\envs\\tf_env\\lib\\site-packages\\IPython\\core\\pylabtools.py:170: UserWarning: Glyph 128313 (\\N{SMALL BLUE DIAMOND}) missing from font(s) DejaVu Sans.\n",
      "  fig.canvas.print_figure(bytes_io, **kw)\n"
     ]
    },
    {
     "data": {
      "image/png": "[encoded data removed]",
      "text/plain": [
       "<Figure size 600x500 with 2 Axes>"
      ]
     },
     "metadata": {},
     "output_type": "display_data"
    },
    {
     "name": "stderr",
     "output_type": "stream",
     "text": [
      "WARNING:absl:You are saving your model as an HDF5 file via `model.save()` or `keras.saving.save_model(model)`. This file format is considered legacy. We recommend using instead the native Keras format, e.g. `model.save('my_model.keras')` or `keras.saving.save_model(model, 'my_model.keras')`. \n"
     ]
    },
    {
     "name": "stdout",
     "output_type": "stream",
     "text": [
      "\n",
      "✅ **Model LSTM i tokenizer zapisane poprawnie!**\n"
     ]
    }
   ],
   "source": [
    "import pandas as pd\n",
    "import numpy as np\n",
    "import matplotlib.pyplot as plt\n",
    "import seaborn as sns\n",
    "import tensorflow as tf\n",
    "\n",
    "from tensorflow.keras.models import Sequential\n",
    "from tensorflow.keras.layers import Embedding, LSTM, Dense, Dropout, BatchNormalization, Bidirectional\n",
    "from tensorflow.keras.preprocessing.text import Tokenizer\n",
    "from tensorflow.keras.preprocessing.sequence import pad_sequences\n",
    "from tensorflow.keras.optimizers import Adam\n",
    "from tensorflow.keras.callbacks import ModelCheckpoint, EarlyStopping, ReduceLROnPlateau\n",
    "from sklearn.model_selection import train_test_split\n",
    "from sklearn.metrics import accuracy_score, classification_report, confusion_matrix\n",
    "from tensorflow.keras.preprocessing.text import tokenizer_from_json\n",
    "\n",
    "import json\n",
    "import os\n",
    "\n",
    "# Wczytanie danych\n",
    "df = pd.read_csv(r\"C:\\Users\\User\\PycharmProjects\\sentiment\\finaldata\\przefiltrowanebezprezydentapowinnobycok.csv\")\n",
    "\n",
    "# Podział na train/test\n",
    "X_train, X_test, y_train, y_test = train_test_split(df[\"text\"], df[\"sentiment\"], test_size=0.2, random_state=42, stratify=df[\"sentiment\"])\n",
    "\n",
    "# Mapowanie etykiet (0, 2, 4 → 0, 1, 2)\n",
    "y_train_mapped = y_train.map({0: 0, 2: 1, 4: 2})\n",
    "y_test_mapped = y_test.map({0: 0, 2: 1, 4: 2})\n",
    "\n",
    "# Tokenizacja i zamiana tekstu na sekwencje liczbowych tokenów\n",
    "MAX_WORDS = 20000\n",
    "MAX_LEN = 100\n",
    "EMBEDDING_DIM = 100  # Dopasowane do GloVe\n",
    "\n",
    "save_path = r\"C:\\Users\\User\\PycharmProjects\\sentiment\\models\\zlozone\"\n",
    "os.makedirs(save_path, exist_ok=True)\n",
    "tokenizer_path = os.path.join(save_path, \"tokenizer.json\")\n",
    "\n",
    "if os.path.exists(tokenizer_path):\n",
    "    with open(tokenizer_path, \"r\") as f:\n",
    "        tokenizer_json = json.load(f)\n",
    "        tokenizer = tokenizer_from_json(tokenizer_json)\n",
    "    print(\"✅ Wczytano zapisany tokenizer.\")\n",
    "else:\n",
    "    tokenizer = Tokenizer(num_words=MAX_WORDS, oov_token=\"<OOV>\")\n",
    "    tokenizer.fit_on_texts(X_train)\n",
    "    tokenizer_json = tokenizer.to_json()\n",
    "    with open(tokenizer_path, \"w\") as f:\n",
    "        json.dump(tokenizer_json, f)\n",
    "    print(\"✅ Tokenizer został utworzony i zapisany.\")\n",
    "\n",
    "X_train_seq = tokenizer.texts_to_sequences(X_train)\n",
    "X_test_seq = tokenizer.texts_to_sequences(X_test)\n",
    "\n",
    "# Padding\n",
    "X_train_pad = pad_sequences(X_train_seq, maxlen=MAX_LEN, padding='post', truncating='post')\n",
    "X_test_pad = pad_sequences(X_test_seq, maxlen=MAX_LEN, padding='post', truncating='post')\n",
    "\n",
    "# Wczytanie embeddingu GloVe\n",
    "embedding_index = {}\n",
    "with open(r\"C:\\Users\\User\\PycharmProjects\\sentiment\\notebooks\\glove.6B.100d.txt\", encoding=\"utf-8\") as f:\n",
    "    for line in f:\n",
    "        values = line.split()\n",
    "        word = values[0]\n",
    "        vector = np.asarray(values[1:], dtype=\"float32\")\n",
    "        embedding_index[word] = vector\n",
    "\n",
    "embedding_matrix = np.zeros((MAX_WORDS, EMBEDDING_DIM))\n",
    "for word, i in tokenizer.word_index.items():\n",
    "    if i < MAX_WORDS:\n",
    "        vector = embedding_index.get(word)\n",
    "        if vector is not None:\n",
    "            embedding_matrix[i] = vector\n",
    "\n",
    "# Budowa modelu\n",
    "model = Sequential([\n",
    "    Embedding(input_dim=MAX_WORDS, output_dim=EMBEDDING_DIM, weights=[embedding_matrix], input_length=MAX_LEN, trainable=False),\n",
    "\n",
    "    Bidirectional(LSTM(128, return_sequences=True, recurrent_dropout=0.2, dropout=0.2)),\n",
    "    BatchNormalization(),\n",
    "    Dropout(0.2),\n",
    "\n",
    "    Bidirectional(LSTM(64, recurrent_dropout=0.2, dropout=0.2)),\n",
    "    BatchNormalization(),\n",
    "    Dropout(0.2),\n",
    "\n",
    "    Dense(64, activation=\"relu\", kernel_regularizer=tf.keras.regularizers.l2(0.01)),\n",
    "    Dropout(0.2),\n",
    "\n",
    "    Dense(3, activation=\"softmax\")\n",
    "])\n",
    "\n",
    "# Kompilacja modelu\n",
    "optimizer = Adam(learning_rate=0.0005)\n",
    "model.compile(loss=\"sparse_categorical_crossentropy\", optimizer=optimizer, metrics=[\"accuracy\"])\n",
    "\n",
    "# Callbacki\n",
    "best_model_path = os.path.join(save_path, \"lstm_eval_best_model.h5\")\n",
    "\n",
    "checkpoint_callback = ModelCheckpoint(\n",
    "    best_model_path,\n",
    "    monitor=\"val_loss\",\n",
    "    save_best_only=True,\n",
    "    mode=\"min\",\n",
    "    verbose=1\n",
    ")\n",
    "\n",
    "early_stop_callback = EarlyStopping(monitor=\"val_loss\", patience=3, restore_best_weights=True, verbose=1)\n",
    "reduce_lr_callback = ReduceLROnPlateau(monitor=\"val_loss\", factor=0.5, patience=2, min_lr=1e-6, verbose=1)\n",
    "\n",
    "# Trenowanie modelu (tu zmieniono epochs=10)\n",
    "with tf.device('/GPU:0'):\n",
    "    history = model.fit(\n",
    "        X_train_pad, y_train_mapped,\n",
    "        epochs=10,  # <---- liczba epok zmieniona na 10\n",
    "        batch_size=128,\n",
    "        validation_data=(X_test_pad, y_test_mapped),\n",
    "        callbacks=[checkpoint_callback, early_stop_callback, reduce_lr_callback]\n",
    "    )\n",
    "\n",
    "# Ewaluacja modelu\n",
    "y_pred = np.argmax(model.predict(X_test_pad), axis=1)\n",
    "accuracy = accuracy_score(y_test_mapped, y_pred)\n",
    "print(f\"\\n🔹 **Dokładność modelu LSTM: {accuracy:.4f}**\\n\")\n",
    "print(\"🔹 **Raport klasyfikacji:**\")\n",
    "print(classification_report(y_test_mapped, y_pred))\n",
    "\n",
    "# Macierz konfuzji\n",
    "cm = confusion_matrix(y_test_mapped, y_pred)\n",
    "plt.figure(figsize=(6, 5))\n",
    "sns.heatmap(cm, annot=True, fmt=\"d\", cmap=\"coolwarm\",\n",
    "            xticklabels=[\"Negatywny\", \"Neutralny\", \"Pozytywny\"],\n",
    "            yticklabels=[\"Negatywny\", \"Neutralny\", \"Pozytywny\"])\n",
    "plt.xlabel(\"Przewidywane\")\n",
    "plt.ylabel(\"Prawdziwe\")\n",
    "plt.title(\"🔹 Macierz konfuzji - LSTM\")\n",
    "plt.show()\n",
    "\n",
    "# Zapis modelu\n",
    "model.save(os.path.join(save_path, \"lstm_model_finaal1.h5\"))\n",
    "print(\"\\n✅ **Model LSTM i tokenizer zapisane poprawnie!**\")\n"
   ]
  },
  {
   "cell_type": "code",
   "execution_count": null,
   "id": "e389a2de-0473-4d9d-91c6-f51dcf23ade2",
   "metadata": {},
   "outputs": [],
   "source": []
  }
 ],
 "metadata": {
  "kernelspec": {
   "display_name": "Python 3 (ipykernel)",
   "language": "python",
   "name": "python3"
  },
  "language_info": {
   "codemirror_mode": {
    "name": "ipython",
    "version": 3
   },
   "file_extension": ".py",
   "mimetype": "text/x-python",
   "name": "python",
   "nbconvert_exporter": "python",
   "pygments_lexer": "ipython3",
   "version": "3.10.16"
  }
 },
 "nbformat": 4,
 "nbformat_minor": 5
}
